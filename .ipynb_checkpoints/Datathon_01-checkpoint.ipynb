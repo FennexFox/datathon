{
 "cells": [
  {
   "cell_type": "code",
   "execution_count": 1,
   "id": "cff92236-5101-407b-b167-e6b808150038",
   "metadata": {},
   "outputs": [
    {
     "name": "stderr",
     "output_type": "stream",
     "text": [
      "2024-12-05 15:43:38.171638: I tensorflow/core/util/port.cc:153] oneDNN custom operations are on. You may see slightly different numerical results due to floating-point round-off errors from different computation orders. To turn them off, set the environment variable `TF_ENABLE_ONEDNN_OPTS=0`.\n",
      "2024-12-05 15:43:38.179314: E external/local_xla/xla/stream_executor/cuda/cuda_fft.cc:477] Unable to register cuFFT factory: Attempting to register factory for plugin cuFFT when one has already been registered\n",
      "WARNING: All log messages before absl::InitializeLog() is called are written to STDERR\n",
      "E0000 00:00:1733381018.188702    5587 cuda_dnn.cc:8310] Unable to register cuDNN factory: Attempting to register factory for plugin cuDNN when one has already been registered\n",
      "E0000 00:00:1733381018.191276    5587 cuda_blas.cc:1418] Unable to register cuBLAS factory: Attempting to register factory for plugin cuBLAS when one has already been registered\n",
      "2024-12-05 15:43:38.200484: I tensorflow/core/platform/cpu_feature_guard.cc:210] This TensorFlow binary is optimized to use available CPU instructions in performance-critical operations.\n",
      "To enable the following instructions: AVX2 AVX_VNNI FMA, in other operations, rebuild TensorFlow with the appropriate compiler flags.\n"
     ]
    },
    {
     "name": "stdout",
     "output_type": "stream",
     "text": [
      "Number of replicas: 1\n",
      "2.18.0\n"
     ]
    }
   ],
   "source": [
    "import re, os\n",
    "import random, math\n",
    "import numpy as np\n",
    "import pandas as pd\n",
    "import tensorflow as tf\n",
    "import matplotlib.pyplot as plt\n",
    "import seaborn as sns\n",
    "from sklearn.model_selection import train_test_split\n",
    "from datetime import datetime\n",
    "\n",
    "try:\n",
    "    tpu = tf.distribute.cluster_resolver.TPUClusterResolver()\n",
    "    print('Device:', tpu.master())\n",
    "    tf.config.experimental_connect_to_cluster(tpu)\n",
    "    tf.tpu.experimental.initialize_tpu_system(tpu)\n",
    "    strategy = tf.distribute.experimental.TPUStrategy(tpu)\n",
    "except:\n",
    "    strategy = tf.distribute.get_strategy()\n",
    "print('Number of replicas:', strategy.num_replicas_in_sync)\n",
    "    \n",
    "print(tf.__version__)"
   ]
  },
  {
   "cell_type": "code",
   "execution_count": 2,
   "id": "a81391bd-5197-4e33-a838-0cddf8ea780b",
   "metadata": {},
   "outputs": [
    {
     "name": "stdout",
     "output_type": "stream",
     "text": [
      "/home/technocracy90/.cache/kagglehub/datasets/shivamb/netflix-shows/versions/5\n",
      "/home/technocracy90/.cache/kagglehub/datasets/shivamb/amazon-prime-movies-and-tv-shows/versions/1\n",
      "/home/technocracy90/.cache/kagglehub/datasets/shivamb/disney-movies-and-tv-shows/versions/2\n",
      "netflix_titles.csv\n",
      "amazon_prime_titles.csv\n",
      "disney_plus_titles.csv\n"
     ]
    }
   ],
   "source": [
    "# Kaggle 데이터 다운로드\n",
    "import kagglehub\n",
    "netflix_path = kagglehub.dataset_download(\"shivamb/netflix-shows\")\n",
    "amazon_path = kagglehub.dataset_download(\"shivamb/amazon-prime-movies-and-tv-shows\")\n",
    "disney_path = kagglehub.dataset_download(\"shivamb/disney-movies-and-tv-shows\")\n",
    "\n",
    "# 저장된 경로 확인\n",
    "print(netflix_path)\n",
    "print(amazon_path)\n",
    "print(disney_path)\n",
    "\n",
    "# cash 디렉토리에서 작업 디렉토리로 복사\n",
    "from distutils.dir_util import copy_tree\n",
    "root_path = os.path.join(os.getenv('HOME'), 'Datathon')\n",
    "copy_tree(netflix_path, root_path)\n",
    "copy_tree(amazon_path, root_path)\n",
    "copy_tree(disney_path, root_path)\n",
    "\n",
    "# 데이터 경로 업데이트\n",
    "\n",
    "def update_path(data_path):\n",
    "    name = data_path.split(\"/\")[-3]\n",
    "    name = name.split(\"-\")[0]\n",
    "\n",
    "    for file in os.listdir(root_path):\n",
    "        filename, extension = os.path.splitext(file)\n",
    "        filename = filename.split(\"_\")[0]\n",
    "        if extension == \".csv\" and name == filename:\n",
    "            return  file\n",
    "\n",
    "netflix_path = update_path(netflix_path)\n",
    "amazon_path = update_path(amazon_path)\n",
    "disney_path = update_path(disney_path)\n",
    "\n",
    "# 저장된 경로 확인\n",
    "print(netflix_path)\n",
    "print(amazon_path)\n",
    "print(disney_path)"
   ]
  },
  {
   "cell_type": "code",
   "execution_count": 3,
   "id": "39f95a44-ff5d-42b7-8382-d808a5c6784e",
   "metadata": {},
   "outputs": [],
   "source": [
    "# 데이터 적재\n",
    "netflix = pd.read_csv(netflix_path)\n",
    "amazon = pd.read_csv(amazon_path)\n",
    "disney = pd.read_csv(disney_path)"
   ]
  },
  {
   "cell_type": "code",
   "execution_count": 4,
   "id": "8339fc44-995a-4ef6-8838-ee591ebf675b",
   "metadata": {},
   "outputs": [
    {
     "name": "stdout",
     "output_type": "stream",
     "text": [
      "<class 'pandas.core.frame.DataFrame'>\n",
      "RangeIndex: 8807 entries, 0 to 8806\n",
      "Data columns (total 12 columns):\n",
      " #   Column        Non-Null Count  Dtype \n",
      "---  ------        --------------  ----- \n",
      " 0   show_id       8807 non-null   object\n",
      " 1   type          8807 non-null   object\n",
      " 2   title         8807 non-null   object\n",
      " 3   director      6173 non-null   object\n",
      " 4   cast          7982 non-null   object\n",
      " 5   country       7976 non-null   object\n",
      " 6   date_added    8797 non-null   object\n",
      " 7   release_year  8807 non-null   int64 \n",
      " 8   rating        8803 non-null   object\n",
      " 9   duration      8804 non-null   object\n",
      " 10  listed_in     8807 non-null   object\n",
      " 11  description   8807 non-null   object\n",
      "dtypes: int64(1), object(11)\n",
      "memory usage: 825.8+ KB\n",
      "None\n",
      "<class 'pandas.core.frame.DataFrame'>\n",
      "RangeIndex: 9668 entries, 0 to 9667\n",
      "Data columns (total 12 columns):\n",
      " #   Column        Non-Null Count  Dtype \n",
      "---  ------        --------------  ----- \n",
      " 0   show_id       9668 non-null   object\n",
      " 1   type          9668 non-null   object\n",
      " 2   title         9668 non-null   object\n",
      " 3   director      7585 non-null   object\n",
      " 4   cast          8435 non-null   object\n",
      " 5   country       672 non-null    object\n",
      " 6   date_added    155 non-null    object\n",
      " 7   release_year  9668 non-null   int64 \n",
      " 8   rating        9331 non-null   object\n",
      " 9   duration      9668 non-null   object\n",
      " 10  listed_in     9668 non-null   object\n",
      " 11  description   9668 non-null   object\n",
      "dtypes: int64(1), object(11)\n",
      "memory usage: 906.5+ KB\n",
      "None\n",
      "<class 'pandas.core.frame.DataFrame'>\n",
      "RangeIndex: 1450 entries, 0 to 1449\n",
      "Data columns (total 12 columns):\n",
      " #   Column        Non-Null Count  Dtype \n",
      "---  ------        --------------  ----- \n",
      " 0   show_id       1450 non-null   object\n",
      " 1   type          1450 non-null   object\n",
      " 2   title         1450 non-null   object\n",
      " 3   director      977 non-null    object\n",
      " 4   cast          1260 non-null   object\n",
      " 5   country       1231 non-null   object\n",
      " 6   date_added    1447 non-null   object\n",
      " 7   release_year  1450 non-null   int64 \n",
      " 8   rating        1447 non-null   object\n",
      " 9   duration      1450 non-null   object\n",
      " 10  listed_in     1450 non-null   object\n",
      " 11  description   1450 non-null   object\n",
      "dtypes: int64(1), object(11)\n",
      "memory usage: 136.1+ KB\n",
      "None\n",
      "       release_year\n",
      "count   8807.000000\n",
      "mean    2014.180198\n",
      "std        8.819312\n",
      "min     1925.000000\n",
      "25%     2013.000000\n",
      "50%     2017.000000\n",
      "75%     2019.000000\n",
      "max     2021.000000\n",
      "       release_year\n",
      "count   9668.000000\n",
      "mean    2008.341849\n",
      "std       18.922482\n",
      "min     1920.000000\n",
      "25%     2007.000000\n",
      "50%     2016.000000\n",
      "75%     2019.000000\n",
      "max     2021.000000\n",
      "       release_year\n",
      "count   1450.000000\n",
      "mean    2003.091724\n",
      "std       21.860162\n",
      "min     1928.000000\n",
      "25%     1999.000000\n",
      "50%     2011.000000\n",
      "75%     2018.000000\n",
      "max     2021.000000\n"
     ]
    }
   ],
   "source": [
    "#id 패딩 함수\n",
    "def pad_show_id(show_id):\n",
    "    pattern = re.compile(r\"s(\\d+)\")\n",
    "    result = pattern.sub(lambda match: f\"s{int(match.group(1)):04d}\", show_id)\n",
    "    return result\n",
    "\n",
    "netflix['show_id'] = netflix['show_id'].apply(pad_show_id)\n",
    "amazon['show_id'] = amazon['show_id'].apply(pad_show_id)\n",
    "disney['show_id'] = disney['show_id'].apply(pad_show_id)\n",
    "\n",
    "print(netflix.info())\n",
    "print(amazon.info())\n",
    "print(disney.info())\n",
    "\n",
    "print(netflix.describe())\n",
    "print(amazon.describe())\n",
    "print(disney.describe())"
   ]
  },
  {
   "cell_type": "code",
   "execution_count": 5,
   "id": "b50ce8ad-65e7-47e5-b596-52354c74760c",
   "metadata": {},
   "outputs": [],
   "source": [
    "def date_and_time(dataframe):\n",
    "    dataframe['date_added'] = dataframe['date_added'].astype('str')\n",
    "    dataframe['release_year'] = dataframe['release_year'].astype('str')\n",
    "    counter_release = 0\n",
    "    counter_added = 0\n",
    "    \n",
    "    for entry, index in zip(dataframe['release_year'], dataframe.index):\n",
    "        if type(entry) != datetime:\n",
    "            try:\n",
    "                dataframe.at[index, 'release_year'] = datetime.strptime(str(entry), \"%Y\")\n",
    "            except Exception as e:\n",
    "                counter_release += 1\n",
    "                print(f\"{e}:\\n{index}, {entry}\")\n",
    "\n",
    "    \n",
    "    for entry, index in zip(dataframe['date_added'], dataframe.index):\n",
    "        try:\n",
    "            dataframe.at[index, 'date_added'] = datetime.strptime(entry.lstrip(), \"%B %d, %Y\")\n",
    "        except Exception as e:\n",
    "            counter_added += 1\n",
    "            dataframe.at[index, 'date_added'] = dataframe.at[index, 'release_year']\n",
    "    \n",
    "    print(f'{counter_release} release_dates have not converted!')\n",
    "    print(f'{counter_added} date_added were missing!')"
   ]
  },
  {
   "cell_type": "code",
   "execution_count": 6,
   "id": "b0bf566f-1449-475b-90da-efca94e05d54",
   "metadata": {},
   "outputs": [
    {
     "name": "stdout",
     "output_type": "stream",
     "text": [
      "0 release_dates have not converted!\n",
      "10 date_added were missing!\n",
      "0 release_dates have not converted!\n",
      "9513 date_added were missing!\n",
      "0 release_dates have not converted!\n",
      "3 date_added were missing!\n"
     ]
    }
   ],
   "source": [
    "date_and_time(netflix)\n",
    "date_and_time(amazon)\n",
    "date_and_time(disney)"
   ]
  },
  {
   "cell_type": "code",
   "execution_count": 143,
   "id": "02ce3483-dccd-46ae-b5ff-8612325fdac7",
   "metadata": {},
   "outputs": [],
   "source": [
    "def split_and_count(dataframe, column):\n",
    "    countries_split = dataframe[column].str.split(\",\", expand = True)\n",
    "    countries_series = pd.Series()\n",
    "    \n",
    "    for i in range(countries_split.shape[1]):\n",
    "        countries_series = pd.concat([countries_series, countries_split[i]])\n",
    "    \n",
    "    countries_series = countries_series.dropna()\n",
    "    countries_series = countries_series.apply(lambda x: str(x).lstrip()).unique()\n",
    "    countries_series = np.sort(countries_series)\n",
    "\n",
    "    return countries_series"
   ]
  },
  {
   "cell_type": "code",
   "execution_count": 147,
   "id": "1659dab1-eafb-4bd6-a86d-7b5da632c6f7",
   "metadata": {},
   "outputs": [
    {
     "name": "stdout",
     "output_type": "stream",
     "text": [
      "36439\n",
      "31853\n",
      "3759\n"
     ]
    }
   ],
   "source": [
    "print(split_and_count(netflix, \"cast\"))\n",
    "print(split_and_count(amazon, \"cast\").size)\n",
    "print(split_and_count(disney, \"cast\").size)"
   ]
  },
  {
   "cell_type": "code",
   "execution_count": 132,
   "id": "eeaa22b8-aba7-416a-b174-52db5a4b01bf",
   "metadata": {},
   "outputs": [
    {
     "name": "stdout",
     "output_type": "stream",
     "text": [
      "['' 'Afghanistan' 'Albania' 'Algeria' 'Angola' 'Argentina' 'Armenia'\n",
      " 'Australia' 'Austria' 'Azerbaijan' 'Bahamas' 'Bangladesh' 'Belarus'\n",
      " 'Belgium' 'Bermuda' 'Botswana' 'Brazil' 'Bulgaria' 'Burkina Faso'\n",
      " 'Cambodia' 'Cameroon' 'Canada' 'Cayman Islands' 'Chile' 'China'\n",
      " 'Colombia' 'Croatia' 'Cuba' 'Cyprus' 'Czech Republic' 'Denmark'\n",
      " 'Dominican Republic' 'East Germany' 'Ecuador' 'Egypt' 'Ethiopia'\n",
      " 'Finland' 'France' 'Georgia' 'Germany' 'Ghana' 'Greece' 'Guatemala'\n",
      " 'Hong Kong' 'Hungary' 'Iceland' 'India' 'Indonesia' 'Iran' 'Iraq'\n",
      " 'Ireland' 'Israel' 'Italy' 'Jamaica' 'Japan' 'Jordan' 'Kazakhstan'\n",
      " 'Kenya' 'Kuwait' 'Latvia' 'Lebanon' 'Liechtenstein' 'Lithuania'\n",
      " 'Luxembourg' 'Malawi' 'Malaysia' 'Malta' 'Mauritius' 'Mexico' 'Mongolia'\n",
      " 'Montenegro' 'Morocco' 'Mozambique' 'Namibia' 'Nepal' 'Netherlands'\n",
      " 'New Zealand' 'Nicaragua' 'Nigeria' 'Norway' 'Pakistan' 'Palestine'\n",
      " 'Panama' 'Paraguay' 'Peru' 'Philippines' 'Poland' 'Portugal'\n",
      " 'Puerto Rico' 'Qatar' 'Romania' 'Russia' 'Samoa' 'Saudi Arabia' 'Senegal'\n",
      " 'Serbia' 'Singapore' 'Slovakia' 'Slovenia' 'Somalia' 'South Africa'\n",
      " 'South Korea' 'Soviet Union' 'Spain' 'Sri Lanka' 'Sudan' 'Sweden'\n",
      " 'Switzerland' 'Syria' 'Taiwan' 'Thailand' 'Turkey' 'Uganda' 'Ukraine'\n",
      " 'United Arab Emirates' 'United Kingdom' 'United States' 'Uruguay'\n",
      " 'Vatican City' 'Venezuela' 'Vietnam' 'West Germany' 'Zimbabwe']\n",
      "['Afghanistan' 'Albania' 'Argentina' 'Australia' 'Austria' 'Belgium'\n",
      " 'Brazil' 'Canada' 'Chile' 'China' 'Colombia' 'Czech Republic' 'Denmark'\n",
      " 'Egypt' 'France' 'Georgia' 'Germany' 'Hong Kong' 'Hungary' 'India' 'Iran'\n",
      " 'Ireland' 'Italy' 'Japan' 'Kazakhstan' 'Kosovo' 'Luxembourg' 'Malaysia'\n",
      " 'Mexico' 'Monaco' 'Netherlands' 'New Zealand' 'Norway' 'Poland'\n",
      " 'Portugal' 'Singapore' 'South Africa' 'South Korea' 'Spain' 'Sweden'\n",
      " 'Switzerland' 'Thailand' 'United Arab Emirates' 'United Kingdom'\n",
      " 'United States']\n",
      "['Angola' 'Argentina' 'Australia' 'Austria' 'Belgium' 'Botswana' 'Brazil'\n",
      " 'Canada' 'China' 'Czech Republic' 'Denmark' 'Egypt' 'France' 'Germany'\n",
      " 'Guatemala' 'Hong Kong' 'Hungary' 'India' 'Iran' 'Ireland' 'Japan'\n",
      " 'Kazakhstan' 'Luxembourg' 'Malaysia' 'Mexico' 'Namibia' 'New Zealand'\n",
      " 'Norway' 'Pakistan' 'Panama' 'Philippines' 'Poland' 'Russia' 'Singapore'\n",
      " 'Slovenia' 'South Africa' 'South Korea' 'Spain' 'Sweden' 'Switzerland'\n",
      " 'Syria' 'Taiwan' 'Tanzania' 'Thailand' 'United Arab Emirates'\n",
      " 'United Kingdom' 'United States']\n"
     ]
    },
    {
     "ename": "TypeError",
     "evalue": "concat() takes 1 positional argument but 3 were given",
     "output_type": "error",
     "traceback": [
      "\u001b[0;31m---------------------------------------------------------------------------\u001b[0m",
      "\u001b[0;31mTypeError\u001b[0m                                 Traceback (most recent call last)",
      "Cell \u001b[0;32mIn[132], line 1\u001b[0m\n\u001b[0;32m----> 1\u001b[0m countries_series \u001b[38;5;241m=\u001b[39m pd\u001b[38;5;241m.\u001b[39mconcat(split_and_count(netflix)[\u001b[38;5;241m1\u001b[39m], split_and_count(amazon)[\u001b[38;5;241m1\u001b[39m], split_and_count(disney)[\u001b[38;5;241m1\u001b[39m])\n",
      "\u001b[0;31mTypeError\u001b[0m: concat() takes 1 positional argument but 3 were given"
     ]
    }
   ],
   "source": [
    "countries_series = pd.concat(split_and_count(netflix)[1], split_and_count(amazon)[1], split_and_count(disney)[1])"
   ]
  },
  {
   "cell_type": "code",
   "execution_count": 120,
   "id": "1c9a256a-e3f4-42c0-8633-f5b65dccd4fc",
   "metadata": {},
   "outputs": [
    {
     "data": {
      "text/plain": [
       "array(['Angola', 'Argentina', 'Australia', 'Austria', 'Belgium',\n",
       "       'Botswana', 'Brazil', 'Canada', 'China', 'Czech Republic',\n",
       "       'Denmark', 'Egypt', 'France', 'Germany', 'Guatemala', 'Hong Kong',\n",
       "       'Hungary', 'India', 'Iran', 'Ireland', 'Japan', 'Kazakhstan',\n",
       "       'Luxembourg', 'Malaysia', 'Mexico', 'Namibia', 'New Zealand',\n",
       "       'Norway', 'Pakistan', 'Panama', 'Philippines', 'Poland', 'Russia',\n",
       "       'Singapore', 'Slovenia', 'South Africa', 'South Korea', 'Spain',\n",
       "       'Sweden', 'Switzerland', 'Syria', 'Taiwan', 'Tanzania', 'Thailand',\n",
       "       'United Arab Emirates', 'United Kingdom', 'United States'],\n",
       "      dtype=object)"
      ]
     },
     "execution_count": 120,
     "metadata": {},
     "output_type": "execute_result"
    }
   ],
   "source": [
    "countries_split = disney['country'].str.split(\",\", expand = True)\n",
    "countries_series = pd.Series()\n",
    "\n",
    "for i in range(countries_split.shape[1]):\n",
    "    countries_series = pd.concat([countries_series, countries_split[i]])\n",
    "\n",
    "countries_series = countries_series.dropna()\n",
    "countries_series = countries_series.drop(countries_series[countries_series == ''].index)\n",
    "countries_series = countries_series.apply(lambda x: str(x).lstrip())\n",
    "\n",
    "np.sort(countries_series.unique())"
   ]
  },
  {
   "cell_type": "code",
   "execution_count": 11,
   "id": "fd506a28-f46f-4630-9c8d-105c2ab1da88",
   "metadata": {},
   "outputs": [
    {
     "data": {
      "text/plain": [
       "<Axes: xlabel='release_year'>"
      ]
     },
     "execution_count": 11,
     "metadata": {},
     "output_type": "execute_result"
    },
    {
     "data": {
      "image/png": "[encoded data removed]",
      "text/plain": [
       "<Figure size 640x480 with 1 Axes>"
      ]
     },
     "metadata": {},
     "output_type": "display_data"
    }
   ],
   "source": [
    "temp = (netflix[\"date_added\"] - netflix[\"release_year\"]).to_frame('temp')\n",
    "temp = temp.apply(lambda td: datetime(2024, 1, 1) - td)\n",
    "sns.violinplot(x=netflix[\"release_year\"])\n",
    "# sns.violinplot(x=amazon[\"release_year\"])\n",
    "# sns.violinplot(x=disney[\"release_year\"])\n",
    "# sns.violinplot(x=netflix[\"date_added\"])\n",
    "# sns.violinplot(x=temp[\"temp\"])"
   ]
  }
 ],
 "metadata": {
  "kernelspec": {
   "display_name": "Python 3 (ipykernel)",
   "language": "python",
   "name": "python3"
  },
  "language_info": {
   "codemirror_mode": {
    "name": "ipython",
    "version": 3
   },
   "file_extension": ".py",
   "mimetype": "text/x-python",
   "name": "python",
   "nbconvert_exporter": "python",
   "pygments_lexer": "ipython3",
   "version": "3.12.7"
  }
 },
 "nbformat": 4,
 "nbformat_minor": 5
}
